{
 "cells": [
  {
   "cell_type": "code",
   "execution_count": 5,
   "metadata": {},
   "outputs": [
    {
     "name": "stdout",
     "output_type": "stream",
     "text": [
      "spines/id_1.png\n",
      "spines/id_2.png\n",
      "spines/id_3.png\n",
      "spines/id_4.png\n",
      "spines/id_5.png\n",
      "spines/id_6.png\n",
      "spines/id_7.png\n",
      "spines/id_8.png\n",
      "spines/id_9.png\n",
      "spines/id_10.png\n",
      "spines/id_11.png\n",
      "spines/id_12.png\n",
      "spines/id_13.png\n",
      "spines/id_14.png\n",
      "spines/id_15.png\n",
      "spines/id_16.png\n",
      "spines/id_17.png\n",
      "spines/id_18.png\n",
      "spines/id_19.png\n",
      "spines/id_20.png\n",
      "spines/id_21.png\n",
      "spines/id_22.png\n",
      "spines/id_23.png\n"
     ]
    }
   ],
   "source": [
    "import glob\n",
    "import cv2\n",
    "import numpy as np\n",
    "import re\n",
    "from matplotlib import pyplot as plt\n",
    "\n",
    "all_hues = []\n",
    "all_sats = []\n",
    "all_vals = []\n",
    "spines = glob.glob(\"spines/*\")\n",
    "spines = list(map(lambda s: [int(re.findall(\"\\d+\", s)[0]), s], spines))\n",
    "spines.sort()\n",
    "\n",
    "\n",
    "for i, file in spines:\n",
    "    print(file)\n",
    "    img = cv2.imread(file)\n",
    "    hsv = cv2.cvtColor(img, cv2.COLOR_BGR2HSV)\n",
    "\n",
    "    for i, array in enumerate([all_hues, all_sats, all_vals]):\n",
    "        hist, _ = np.histogram(hsv[:,:,i], bins=20)\n",
    "        hist = hist / np.linalg.norm(hist)\n",
    "        array.append(hist)\n",
    "\n",
    "np.savetxt(\"hue.txt\", all_hues)\n",
    "np.savetxt(\"sat.txt\", all_sats)\n",
    "np.savetxt(\"val.txt\", all_vals)\n",
    "    "
   ]
  },
  {
   "cell_type": "code",
   "execution_count": 6,
   "metadata": {},
   "outputs": [
    {
     "data": {
      "text/plain": [
       "[<matplotlib.lines.Line2D at 0x7f71a0644190>]"
      ]
     },
     "execution_count": 6,
     "metadata": {},
     "output_type": "execute_result"
    },
    {
     "data": {
      "image/png": "[encoded data removed]",
      "text/plain": [
       "<Figure size 432x288 with 1 Axes>"
      ]
     },
     "metadata": {
      "needs_background": "light"
     },
     "output_type": "display_data"
    }
   ],
   "source": [
    "plt.plot(all_hists[0])"
   ]
  },
  {
   "cell_type": "code",
   "execution_count": 7,
   "metadata": {},
   "outputs": [
    {
     "data": {
      "text/plain": [
       "<matplotlib.image.AxesImage at 0x7f71a0621df0>"
      ]
     },
     "execution_count": 7,
     "metadata": {},
     "output_type": "execute_result"
    },
    {
     "data": {
      "image/png": "[encoded data removed]",
      "text/plain": [
       "<Figure size 432x288 with 1 Axes>"
      ]
     },
     "metadata": {
      "needs_background": "light"
     },
     "output_type": "display_data"
    }
   ],
   "source": [
    "# plt.imshow(cv2.cvtColor(hsv, cv2.COLOR_HSV2RGB))\n",
    "plt.imshow(hsv[:,:,0])"
   ]
  },
  {
   "cell_type": "code",
   "execution_count": 8,
   "metadata": {},
   "outputs": [
    {
     "data": {
      "text/plain": [
       "[0.7189683951459623,\n",
       " 0.21565595744382218,\n",
       " 0.7642828790462831,\n",
       " 0.17447623630229186,\n",
       " 0.3373249210153967,\n",
       " 0.6630805367018603,\n",
       " 0.5866437200728416,\n",
       " 0.1868991074690746,\n",
       " 0.31477937786456217,\n",
       " 0.3373249210153967,\n",
       " 0.7817475010680841,\n",
       " 0.817344604082042,\n",
       " 0.5622206592782041,\n",
       " 0.7741247604277813,\n",
       " 0.3373249210153967,\n",
       " 0.3373249210153967,\n",
       " 0.43041810141330666,\n",
       " 0.1466203664583694,\n",
       " 0.8497980530240264,\n",
       " 0.5826189446366782,\n",
       " 0.18513907620661435,\n",
       " 0.11273032914672296,\n",
       " 0.14545172855025904]"
      ]
     },
     "execution_count": 8,
     "metadata": {},
     "output_type": "execute_result"
    }
   ],
   "source": [
    "all_saturations"
   ]
  }
 ],
 "metadata": {
  "interpreter": {
   "hash": "916dbcbb3f70747c44a77c7bcd40155683ae19c65e1c03b4aa3499c5328201f1"
  },
  "kernelspec": {
   "display_name": "Python 3.8.10 64-bit",
   "language": "python",
   "name": "python3"
  },
  "language_info": {
   "codemirror_mode": {
    "name": "ipython",
    "version": 3
   },
   "file_extension": ".py",
   "mimetype": "text/x-python",
   "name": "python",
   "nbconvert_exporter": "python",
   "pygments_lexer": "ipython3",
   "version": "3.8.10"
  },
  "orig_nbformat": 4
 },
 "nbformat": 4,
 "nbformat_minor": 2
}
